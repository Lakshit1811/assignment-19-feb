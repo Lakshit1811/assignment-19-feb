{
 "cells": [
  {
   "cell_type": "raw",
   "id": "5993d4fc-d4a3-4452-8305-3c332cd1ae10",
   "metadata": {},
   "source": [
    "Flask is a micro web framework written in Python that allows developers to build web applications quickly and with minimal code. Flask is lightweight and modular, which makes it a popular choice for building simple web applications and RESTful APIs.\n",
    "\n",
    "Some of the advantages of using Flask framework are:\n",
    "\n",
    "Lightweight and Flexible: Flask is a lightweight framework that provides only the essential features required for building web applications. This makes it easy to learn and use, and allows for a high degree of flexibility in how the application is structured.\n",
    "\n",
    "Easy to Learn: Flask has a simple and intuitive syntax that is easy to learn, even for developers who are new to Python. Its minimalistic approach to web development also makes it an ideal choice for beginners who want to get started with web development.\n",
    "\n",
    "Modular Design: Flask has a modular design that allows developers to add new features and functionality as needed. Flask provides a set of core components that can be extended with third-party libraries to meet specific requirements.\n",
    "\n",
    "Extensive Documentation: Flask has extensive documentation and a large community of developers, which makes it easy to find help and support when building web applications.\n",
    "\n",
    "Support for Testing: Flask includes built-in support for testing, which makes it easy to write and run automated tests for the application.\n",
    "\n",
    "Large Ecosystem: Flask has a large ecosystem of third-party extensions and libraries that provide additional features and functionality. This makes it easy to add features like authentication, database integration, and more to the application.\n",
    "\n",
    "Overall, Flask is a great choice for building simple web applications and RESTful APIs due to its lightweight and flexible design, easy learning curve, and extensive documentation. Its modular architecture and large ecosystem of third-party libraries also make it easy to extend and customize the framework to meet specific requirements."
   ]
  },
  {
   "cell_type": "code",
   "execution_count": 1,
   "id": "8def30ef-a7db-465b-84cc-6a8a8a2ae2ba",
   "metadata": {},
   "outputs": [
    {
     "name": "stdout",
     "output_type": "stream",
     "text": [
      "Collecting Flask\n",
      "  Downloading Flask-2.2.3-py3-none-any.whl (101 kB)\n",
      "\u001b[2K     \u001b[90m━━━━━━━━━━━━━━━━━━━━━━━━━━━━━━━━━━━━━\u001b[0m \u001b[32m101.8/101.8 kB\u001b[0m \u001b[31m975.9 kB/s\u001b[0m eta \u001b[36m0:00:00\u001b[0ma \u001b[36m0:00:01\u001b[0m\n",
      "\u001b[?25hCollecting itsdangerous>=2.0\n",
      "  Downloading itsdangerous-2.1.2-py3-none-any.whl (15 kB)\n",
      "Collecting Werkzeug>=2.2.2\n",
      "  Downloading Werkzeug-2.2.3-py3-none-any.whl (233 kB)\n",
      "\u001b[2K     \u001b[90m━━━━━━━━━━━━━━━━━━━━━━━━━━━━━━━━━━━━━━━\u001b[0m \u001b[32m233.6/233.6 kB\u001b[0m \u001b[31m3.4 MB/s\u001b[0m eta \u001b[36m0:00:00\u001b[0ma \u001b[36m0:00:01\u001b[0m\n",
      "\u001b[?25hRequirement already satisfied: click>=8.0 in /opt/conda/lib/python3.10/site-packages (from Flask) (8.1.3)\n",
      "Requirement already satisfied: Jinja2>=3.0 in /opt/conda/lib/python3.10/site-packages (from Flask) (3.1.2)\n",
      "Requirement already satisfied: MarkupSafe>=2.0 in /opt/conda/lib/python3.10/site-packages (from Jinja2>=3.0->Flask) (2.1.1)\n",
      "Installing collected packages: Werkzeug, itsdangerous, Flask\n",
      "Successfully installed Flask-2.2.3 Werkzeug-2.2.3 itsdangerous-2.1.2\n",
      "Note: you may need to restart the kernel to use updated packages.\n"
     ]
    }
   ],
   "source": [
    "pip install Flask"
   ]
  },
  {
   "cell_type": "code",
   "execution_count": null,
   "id": "8d552e4e-de9f-4b3e-9b07-3efa4b6eabde",
   "metadata": {},
   "outputs": [
    {
     "name": "stdout",
     "output_type": "stream",
     "text": [
      " * Serving Flask app '__main__'\n",
      " * Debug mode: off\n"
     ]
    },
    {
     "name": "stderr",
     "output_type": "stream",
     "text": [
      "WARNING: This is a development server. Do not use it in a production deployment. Use a production WSGI server instead.\n",
      " * Running on all addresses (0.0.0.0)\n",
      " * Running on http://127.0.0.1:5000\n",
      " * Running on http://172.18.0.14:5000\n",
      "Press CTRL+C to quit\n"
     ]
    }
   ],
   "source": [
    "from flask import Flask\n",
    "\n",
    "app = Flask(__name__)\n",
    "\n",
    "@app.route(\"/\")\n",
    "def hello_world():\n",
    "    return \"<h1>Hello, World!</h1>\"\n",
    "\n",
    "if __name__==\"__main__\":\n",
    "    app.run(host=\"0.0.0.0\")"
   ]
  },
  {
   "cell_type": "markdown",
   "id": "20e5aa1a-b172-46da-a903-20e0920631c1",
   "metadata": {
    "tags": []
   },
   "source": [
    "<img src=\"helo.jpg\"/>"
   ]
  },
  {
   "cell_type": "raw",
   "id": "ca99adb5-12a6-487b-94bc-f59d80ce7450",
   "metadata": {},
   "source": [
    "In Flask, App routing refers to the process of mapping URLs (Uniform Resource Locators) to functions in a Flask application. App routing is used to define the behavior of the application when a user visits a specific URL.\n",
    "\n",
    "When a user visits a URL in a Flask application, the Flask routing system checks to see if there is a function associated with that URL. If there is a function, Flask calls the function and returns its result as a response to the user's request\n",
    "\n",
    "We use app routes in Flask to define the behavior of the application when a user visits a specific URL. For example, if a user visits the URL /login, the Flask application might display a login page, while if the user visits the URL /profile, the Flask application might display the user's profile information.\n",
    "\n",
    "from flask import Flask\n",
    "\n",
    "app = Flask(name)\n",
    "\n",
    "@app.route('/') def home(): return 'Welcome to the home page!'\n",
    "\n",
    "@app.route('/about') def about(): return 'This is the about page'\n",
    "\n",
    "if name == 'main': app.run()\n",
    "\n",
    "In this example, we have defined two app routes using the @app.route decorator. The home function is associated with the URL /, while the about function is associated with the URL /about. When the user visits the root URL /, the home function is called, which returns the string 'Welcome to the home page!'. When the user visits the URL /about, the about function is called, which returns the string 'This is the about page'. App routing is an essential feature of Flask, as it allows developers to define the behavior of the application in response to user requests. By mapping URLs to functions, Flask makes it easy to build complex web applications with dynamic content and behavior."
   ]
  },
  {
   "cell_type": "code",
   "execution_count": null,
   "id": "34b4081e-b7bd-48c4-a4b0-13355663b0c4",
   "metadata": {},
   "outputs": [
    {
     "name": "stdout",
     "output_type": "stream",
     "text": [
      " * Serving Flask app '__main__'\n",
      " * Debug mode: off\n"
     ]
    },
    {
     "name": "stderr",
     "output_type": "stream",
     "text": [
      "WARNING: This is a development server. Do not use it in a production deployment. Use a production WSGI server instead.\n",
      " * Running on all addresses (0.0.0.0)\n",
      " * Running on http://127.0.0.1:5000\n",
      " * Running on http://172.18.0.14:5000\n",
      "Press CTRL+C to quit\n"
     ]
    }
   ],
   "source": [
    "from flask import Flask\n",
    "\n",
    "app = Flask(__name__)\n",
    "\n",
    "@app.route('/welcome')\n",
    "def welcome():\n",
    "    return 'Welcome to ABC Corporation'\n",
    "\n",
    "@app.route('/')\n",
    "def company_info():\n",
    "    return 'Company Name: ABC Corporation<br>Location:India<br>Contact Detail: 999-999-9999'\n",
    "\n",
    "if __name__=='__main__':\n",
    "    app.run(host=\"0.0.0.0\")"
   ]
  },
  {
   "cell_type": "markdown",
   "id": "2fc698bb-e368-4924-9215-69b710501b26",
   "metadata": {},
   "source": [
    "![](ab.jpeg)"
   ]
  },
  {
   "cell_type": "raw",
   "id": "dfaa6c90-9f27-4e54-a6cf-95eb8c19a65e",
   "metadata": {},
   "source": [
    "In Flask, the url_for() function is used for URL building. This function generates a URL for the given endpoint and any arguments provided."
   ]
  },
  {
   "cell_type": "code",
   "execution_count": null,
   "id": "368e71dd-5fc7-405a-a11a-d185b9c70ddf",
   "metadata": {},
   "outputs": [
    {
     "name": "stdout",
     "output_type": "stream",
     "text": [
      " * Serving Flask app '__main__'\n",
      " * Debug mode: off\n"
     ]
    },
    {
     "name": "stderr",
     "output_type": "stream",
     "text": [
      "WARNING: This is a development server. Do not use it in a production deployment. Use a production WSGI server instead.\n",
      " * Running on all addresses (0.0.0.0)\n",
      " * Running on http://127.0.0.1:5000\n",
      " * Running on http://172.18.0.14:5000\n",
      "Press CTRL+C to quit\n"
     ]
    }
   ],
   "source": [
    "from flask import Flask, url_for\n",
    "\n",
    "app = Flask(__name__)\n",
    "\n",
    "@app.route('/')\n",
    "def index():\n",
    "    return 'This is the homepage.'\n",
    "\n",
    "@app.route('/about')\n",
    "def about():\n",
    "    return 'This is the about page.'\n",
    "\n",
    "@app.route('/contact')\n",
    "def contact():\n",
    "    return 'This is the contact page.'\n",
    "\n",
    "if __name__=='__main__':\n",
    "    app.run(host=\"0.0.0.0\")"
   ]
  },
  {
   "cell_type": "markdown",
   "id": "ab2cadfb-a85e-42b3-b5db-d098f1973bf8",
   "metadata": {},
   "source": [
    "![](ur.jpeg)"
   ]
  }
 ],
 "metadata": {
  "kernelspec": {
   "display_name": "Python 3 (ipykernel)",
   "language": "python",
   "name": "python3"
  },
  "language_info": {
   "codemirror_mode": {
    "name": "ipython",
    "version": 3
   },
   "file_extension": ".py",
   "mimetype": "text/x-python",
   "name": "python",
   "nbconvert_exporter": "python",
   "pygments_lexer": "ipython3",
   "version": "3.10.8"
  },
  "toc-autonumbering": false,
  "toc-showcode": true,
  "toc-showmarkdowntxt": true
 },
 "nbformat": 4,
 "nbformat_minor": 5
}
